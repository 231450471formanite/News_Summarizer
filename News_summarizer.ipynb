{
 "cells": [
  {
   "attachments": {},
   "cell_type": "markdown",
   "metadata": {},
   "source": [
    "<h1 align=\"center\">News Summarizer using Transformers</h1>\n",
    "<h4 align=\"center\">By Sharoon Yaqub</h4>"
   ]
  },
  {
   "cell_type": "code",
   "execution_count": null,
   "metadata": {},
   "outputs": [],
   "source": [
    "import torch\n",
    "from transformers import BartTokenizer, BartForConditionalGeneration\n",
    "\n",
    "# Load the pre-trained BART model and tokenizer\n",
    "model = BartForConditionalGeneration.from_pretrained('facebook/bart-large-cnn')\n",
    "tokenizer = BartTokenizer.from_pretrained('facebook/bart-large-cnn')\n",
    "\n",
    "def generate_summary(document):\n",
    "    # Tokenize the input document\n",
    "    inputs = tokenizer([document], truncation=True, max_length=1024, return_tensors='pt')\n",
    "\n",
    "    # Generate the summary\n",
    "    summary_ids = model.generate(inputs['input_ids'], num_beams=4, max_length=150, early_stopping=True)\n",
    "    summary = tokenizer.decode(summary_ids.squeeze(), skip_special_tokens=True)\n",
    "\n",
    "    return summary\n",
    "\n",
    "# Example usage\n",
    "document = \"/cnn/Trump-impeachment-2021\"\n",
    "summary = generate_summary(document)\n",
    "print(\"Generated Summary:\", summary)\n"
   ]
  }
 ],
 "metadata": {
  "language_info": {
   "name": "python"
  },
  "orig_nbformat": 4
 },
 "nbformat": 4,
 "nbformat_minor": 2
}
